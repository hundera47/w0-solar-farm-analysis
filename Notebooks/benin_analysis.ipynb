{
 "cells": [
  {
   "cell_type": "markdown",
   "metadata": {},
   "source": [
    "## Benin Notebook"
   ]
  },
  {
   "cell_type": "markdown",
   "metadata": {},
   "source": [
    "##Step 1: data imporing "
   ]
  },
  {
   "cell_type": "code",
   "execution_count": 1,
   "metadata": {},
   "outputs": [
    {
     "name": "stdout",
     "output_type": "stream",
     "text": [
      "First 5 rows of the data:\n",
      "             Timestamp  GHI  DNI  DHI  ModA  ModB  Tamb    RH   WS  WSgust  \\\n",
      "0 2021-08-09 00:01:00 -1.2 -0.2 -1.1   0.0   0.0  26.2  93.4  0.0     0.4   \n",
      "1 2021-08-09 00:02:00 -1.1 -0.2 -1.1   0.0   0.0  26.2  93.6  0.0     0.0   \n",
      "2 2021-08-09 00:03:00 -1.1 -0.2 -1.1   0.0   0.0  26.2  93.7  0.3     1.1   \n",
      "3 2021-08-09 00:04:00 -1.1 -0.1 -1.0   0.0   0.0  26.2  93.3  0.2     0.7   \n",
      "4 2021-08-09 00:05:00 -1.0 -0.1 -1.0   0.0   0.0  26.2  93.3  0.1     0.7   \n",
      "\n",
      "   WSstdev     WD  WDstdev   BP  Cleaning  Precipitation  TModA  TModB  \\\n",
      "0      0.1  122.1      0.0  998         0            0.0   26.3   26.2   \n",
      "1      0.0    0.0      0.0  998         0            0.0   26.3   26.2   \n",
      "2      0.5  124.6      1.5  997         0            0.0   26.4   26.2   \n",
      "3      0.4  120.3      1.3  997         0            0.0   26.4   26.3   \n",
      "4      0.3  113.2      1.0  997         0            0.0   26.4   26.3   \n",
      "\n",
      "   Comments  \n",
      "0       NaN  \n",
      "1       NaN  \n",
      "2       NaN  \n",
      "3       NaN  \n",
      "4       NaN  \n",
      "<class 'pandas.core.frame.DataFrame'>\n",
      "RangeIndex: 525600 entries, 0 to 525599\n",
      "Data columns (total 19 columns):\n",
      " #   Column         Non-Null Count   Dtype         \n",
      "---  ------         --------------   -----         \n",
      " 0   Timestamp      525600 non-null  datetime64[ns]\n",
      " 1   GHI            525600 non-null  float64       \n",
      " 2   DNI            525600 non-null  float64       \n",
      " 3   DHI            525600 non-null  float64       \n",
      " 4   ModA           525600 non-null  float64       \n",
      " 5   ModB           525600 non-null  float64       \n",
      " 6   Tamb           525600 non-null  float64       \n",
      " 7   RH             525600 non-null  float64       \n",
      " 8   WS             525600 non-null  float64       \n",
      " 9   WSgust         525600 non-null  float64       \n",
      " 10  WSstdev        525600 non-null  float64       \n",
      " 11  WD             525600 non-null  float64       \n",
      " 12  WDstdev        525600 non-null  float64       \n",
      " 13  BP             525600 non-null  int64         \n",
      " 14  Cleaning       525600 non-null  int64         \n",
      " 15  Precipitation  525600 non-null  float64       \n",
      " 16  TModA          525600 non-null  float64       \n",
      " 17  TModB          525600 non-null  float64       \n",
      " 18  Comments       0 non-null       float64       \n",
      "dtypes: datetime64[ns](1), float64(16), int64(2)\n",
      "memory usage: 76.2 MB\n",
      "\n",
      "Data Info:\n",
      " None\n",
      "\n",
      "Data Description:\n",
      "                            Timestamp            GHI            DNI  \\\n",
      "count                         525600  525600.000000  525600.000000   \n",
      "mean   2022-02-07 12:00:30.000000512     240.559452     167.187516   \n",
      "min              2021-08-09 00:01:00     -12.900000      -7.800000   \n",
      "25%              2021-11-08 06:00:45      -2.000000      -0.500000   \n",
      "50%              2022-02-07 12:00:30       1.800000      -0.100000   \n",
      "75%              2022-05-09 18:00:15     483.400000     314.200000   \n",
      "max              2022-08-09 00:00:00    1413.000000     952.300000   \n",
      "std                              NaN     331.131327     261.710501   \n",
      "\n",
      "                 DHI           ModA           ModB           Tamb  \\\n",
      "count  525600.000000  525600.000000  525600.000000  525600.000000   \n",
      "mean      115.358961     236.589496     228.883576      28.179683   \n",
      "min       -12.600000       0.000000       0.000000      11.000000   \n",
      "25%        -2.100000       0.000000       0.000000      24.200000   \n",
      "50%         1.600000       4.500000       4.300000      28.000000   \n",
      "75%       216.300000     463.700000     447.900000      32.300000   \n",
      "max       759.200000    1342.300000    1342.300000      43.800000   \n",
      "std       158.691074     326.894859     316.536515       5.924297   \n",
      "\n",
      "                  RH             WS         WSgust        WSstdev  \\\n",
      "count  525600.000000  525600.000000  525600.000000  525600.000000   \n",
      "mean       54.487969       2.121113       2.809195       0.473390   \n",
      "min         2.100000       0.000000       0.000000       0.000000   \n",
      "25%        28.800000       1.000000       1.300000       0.400000   \n",
      "50%        55.100000       1.900000       2.600000       0.500000   \n",
      "75%        80.100000       3.100000       4.100000       0.600000   \n",
      "max       100.000000      19.500000      26.600000       4.200000   \n",
      "std        28.073069       1.603466       2.029120       0.273395   \n",
      "\n",
      "                  WD        WDstdev             BP       Cleaning  \\\n",
      "count  525600.000000  525600.000000  525600.000000  525600.000000   \n",
      "mean      153.435172       8.582407     994.197199       0.000923   \n",
      "min         0.000000       0.000000     985.000000       0.000000   \n",
      "25%        59.000000       3.700000     993.000000       0.000000   \n",
      "50%       181.000000       8.600000     994.000000       0.000000   \n",
      "75%       235.100000      12.300000     996.000000       0.000000   \n",
      "max       360.000000      99.400000    1003.000000       1.000000   \n",
      "std       102.332842       6.385864       2.474993       0.030363   \n",
      "\n",
      "       Precipitation          TModA          TModB  Comments  \n",
      "count  525600.000000  525600.000000  525600.000000       0.0  \n",
      "mean        0.001905      35.246026      32.471736       NaN  \n",
      "min         0.000000       9.000000       8.100000       NaN  \n",
      "25%         0.000000      24.200000      23.600000       NaN  \n",
      "50%         0.000000      30.000000      28.900000       NaN  \n",
      "75%         0.000000      46.900000      41.500000       NaN  \n",
      "max         2.500000      81.000000      72.500000       NaN  \n",
      "std         0.037115      14.807258      12.348743       NaN  \n"
     ]
    }
   ],
   "source": [
    "import sys\n",
    "sys.path.append('..')  # This adds the parent directory to the Python path\n",
    "# notebooks/benin_analysis.ipynb\n",
    "\n",
    "from scripts.data_loading import load_data, initial_exploration\n",
    "\n",
    "# Load the data for Benin\n",
    "benin_data = load_data('../src/benin-malanville.csv')\n",
    "\n",
    "# Initial exploration\n",
    "initial_exploration(benin_data)\n"
   ]
  },
  {
   "cell_type": "markdown",
   "metadata": {},
   "source": [
    "Step 2:Data Qaulity check"
   ]
  },
  {
   "cell_type": "code",
   "execution_count": 2,
   "metadata": {},
   "outputs": [
    {
     "name": "stdout",
     "output_type": "stream",
     "text": [
      "Missing Values:\n",
      " Comments    525600\n",
      "dtype: int64\n",
      "Number of Duplicate Rows: 0\n",
      "Outliers:\n",
      " {'GHI': {'lower_bound': np.float64(-7.1), 'upper_bound': np.float64(997.0), 'outlier_count': 10249}, 'DNI': {'lower_bound': np.float64(-1.1), 'upper_bound': np.float64(850.0), 'outlier_count': 9094}, 'DHI': {'lower_bound': np.float64(-8.9), 'upper_bound': np.float64(574.2), 'outlier_count': 10268}, 'ModA': {'lower_bound': np.float64(0.0), 'upper_bound': np.float64(988.0), 'outlier_count': 5163}, 'ModB': {'lower_bound': np.float64(0.0), 'upper_bound': np.float64(968.0), 'outlier_count': 5240}, 'Tamb': {'lower_bound': np.float64(15.2), 'upper_bound': np.float64(40.7), 'outlier_count': 10044}, 'RH': {'lower_bound': np.float64(7.3), 'upper_bound': np.float64(99.1), 'outlier_count': 9833}, 'WS': {'lower_bound': np.float64(0.0), 'upper_bound': np.float64(6.5), 'outlier_count': 4731}, 'WSgust': {'lower_bound': np.float64(0.0), 'upper_bound': np.float64(8.4), 'outlier_count': 4328}, 'WSstdev': {'lower_bound': np.float64(0.0), 'upper_bound': np.float64(1.3), 'outlier_count': 3532}, 'WD': {'lower_bound': np.float64(0.0), 'upper_bound': np.float64(348.1), 'outlier_count': 5218}, 'WDstdev': {'lower_bound': np.float64(0.0), 'upper_bound': np.float64(27.2), 'outlier_count': 5187}, 'BP': {'lower_bound': np.float64(988.0), 'upper_bound': np.float64(999.0), 'outlier_count': 6871}, 'Cleaning': {'lower_bound': np.float64(0.0), 'upper_bound': np.float64(0.0), 'outlier_count': 485}, 'Precipitation': {'lower_bound': np.float64(0.0), 'upper_bound': np.float64(0.0), 'outlier_count': 3789}, 'TModA': {'lower_bound': np.float64(13.3), 'upper_bound': np.float64(70.6), 'outlier_count': 10296}, 'TModB': {'lower_bound': np.float64(12.4), 'upper_bound': np.float64(62.5), 'outlier_count': 10322}}\n",
      "Data Types:\n",
      " Timestamp        datetime64[ns]\n",
      "GHI                     float64\n",
      "DNI                     float64\n",
      "DHI                     float64\n",
      "ModA                    float64\n",
      "ModB                    float64\n",
      "Tamb                    float64\n",
      "RH                      float64\n",
      "WS                      float64\n",
      "WSgust                  float64\n",
      "WSstdev                 float64\n",
      "WD                      float64\n",
      "WDstdev                 float64\n",
      "BP                        int64\n",
      "Cleaning                  int64\n",
      "Precipitation           float64\n",
      "TModA                   float64\n",
      "TModB                   float64\n",
      "Comments                float64\n",
      "dtype: object\n",
      "Summary Statistics:\n",
      "                            Timestamp            GHI            DNI  \\\n",
      "count                         525600  525600.000000  525600.000000   \n",
      "mean   2022-02-07 12:00:30.000000512     240.559452     167.187516   \n",
      "min              2021-08-09 00:01:00     -12.900000      -7.800000   \n",
      "25%              2021-11-08 06:00:45      -2.000000      -0.500000   \n",
      "50%              2022-02-07 12:00:30       1.800000      -0.100000   \n",
      "75%              2022-05-09 18:00:15     483.400000     314.200000   \n",
      "max              2022-08-09 00:00:00    1413.000000     952.300000   \n",
      "std                              NaN     331.131327     261.710501   \n",
      "\n",
      "                 DHI           ModA           ModB           Tamb  \\\n",
      "count  525600.000000  525600.000000  525600.000000  525600.000000   \n",
      "mean      115.358961     236.589496     228.883576      28.179683   \n",
      "min       -12.600000       0.000000       0.000000      11.000000   \n",
      "25%        -2.100000       0.000000       0.000000      24.200000   \n",
      "50%         1.600000       4.500000       4.300000      28.000000   \n",
      "75%       216.300000     463.700000     447.900000      32.300000   \n",
      "max       759.200000    1342.300000    1342.300000      43.800000   \n",
      "std       158.691074     326.894859     316.536515       5.924297   \n",
      "\n",
      "                  RH             WS         WSgust        WSstdev  \\\n",
      "count  525600.000000  525600.000000  525600.000000  525600.000000   \n",
      "mean       54.487969       2.121113       2.809195       0.473390   \n",
      "min         2.100000       0.000000       0.000000       0.000000   \n",
      "25%        28.800000       1.000000       1.300000       0.400000   \n",
      "50%        55.100000       1.900000       2.600000       0.500000   \n",
      "75%        80.100000       3.100000       4.100000       0.600000   \n",
      "max       100.000000      19.500000      26.600000       4.200000   \n",
      "std        28.073069       1.603466       2.029120       0.273395   \n",
      "\n",
      "                  WD        WDstdev             BP       Cleaning  \\\n",
      "count  525600.000000  525600.000000  525600.000000  525600.000000   \n",
      "mean      153.435172       8.582407     994.197199       0.000923   \n",
      "min         0.000000       0.000000     985.000000       0.000000   \n",
      "25%        59.000000       3.700000     993.000000       0.000000   \n",
      "50%       181.000000       8.600000     994.000000       0.000000   \n",
      "75%       235.100000      12.300000     996.000000       0.000000   \n",
      "max       360.000000      99.400000    1003.000000       1.000000   \n",
      "std       102.332842       6.385864       2.474993       0.030363   \n",
      "\n",
      "       Precipitation          TModA          TModB  Comments  \n",
      "count  525600.000000  525600.000000  525600.000000       0.0  \n",
      "mean        0.001905      35.246026      32.471736       NaN  \n",
      "min         0.000000       9.000000       8.100000       NaN  \n",
      "25%         0.000000      24.200000      23.600000       NaN  \n",
      "50%         0.000000      30.000000      28.900000       NaN  \n",
      "75%         0.000000      46.900000      41.500000       NaN  \n",
      "max         2.500000      81.000000      72.500000       NaN  \n",
      "std         0.037115      14.807258      12.348743       NaN  \n"
     ]
    }
   ],
   "source": [
    "# notebooks/benin_analysis.ipynb\n",
    "\n",
    "from scripts.data_quality import check_missing_values, check_duplicates, check_outliers, validate_data_types, calculate_summary_statistics\n",
    "\n",
    "# Load the data for Benin\n",
    "benin_data = load_data('../src/benin-malanville.csv')\n",
    "\n",
    "# Check for missing values\n",
    "missing_values = check_missing_values(benin_data)\n",
    "print(\"Missing Values:\\n\", missing_values)\n",
    "\n",
    "# Check for duplicates\n",
    "duplicates = check_duplicates(benin_data)\n",
    "print(f\"Number of Duplicate Rows: {duplicates}\")\n",
    "\n",
    "# Check for outliers\n",
    "outliers = check_outliers(benin_data)\n",
    "print(\"Outliers:\\n\", outliers)\n",
    "\n",
    "# Validate data types\n",
    "data_types = validate_data_types(benin_data)\n",
    "print(\"Data Types:\\n\", data_types)\n",
    "\n",
    "# Calculate summary statistics\n",
    "summary_stats = calculate_summary_statistics(benin_data)\n",
    "print(\"Summary Statistics:\\n\", summary_stats)\n"
   ]
  },
  {
   "cell_type": "markdown",
   "metadata": {},
   "source": [
    "## step 3 : Data cleaning"
   ]
  },
  {
   "cell_type": "markdown",
   "metadata": {},
   "source": [
    "## 3.1 handle missing values"
   ]
  },
  {
   "cell_type": "code",
   "execution_count": 3,
   "metadata": {},
   "outputs": [
    {
     "name": "stdout",
     "output_type": "stream",
     "text": [
      "sucessfully cleaned\n"
     ]
    }
   ],
   "source": [
    "# notebooks/benin_analysis.ipynb\n",
    "\n",
    "from scripts.data_cleaning import handle_missing_values\n",
    "\n",
    "# Load the data for Benin\n",
    "benin_data = load_data('../src/benin-malanville.csv')\n",
    "\n",
    "# Handle missing values\n",
    "benin_data_cleaned = handle_missing_values(benin_data)\n"
   ]
  },
  {
   "cell_type": "markdown",
   "metadata": {},
   "source": [
    "## 3.2 Outlier Treatment"
   ]
  },
  {
   "cell_type": "code",
   "execution_count": 4,
   "metadata": {},
   "outputs": [
    {
     "name": "stdout",
     "output_type": "stream",
     "text": [
      "outliers removed!\n"
     ]
    }
   ],
   "source": [
    "# notebooks/benin_analysis.ipynb\n",
    "\n",
    "from scripts.data_cleaning import treat_outliers\n",
    "\n",
    "# Treat outliers\n",
    "benin_data_cleaned_no_outliers = treat_outliers(benin_data_cleaned)\n"
   ]
  },
  {
   "cell_type": "markdown",
   "metadata": {},
   "source": [
    "## 3.3 Final Data preparation"
   ]
  },
  {
   "cell_type": "code",
   "execution_count": 5,
   "metadata": {},
   "outputs": [
    {
     "name": "stdout",
     "output_type": "stream",
     "text": [
      "Successfully finished step 3: data cleaning\n"
     ]
    }
   ],
   "source": [
    "# notebooks/benin_analysis.ipynb\n",
    "\n",
    "from scripts.data_cleaning import final_data_preparation\n",
    "\n",
    "# Final data preparation\n",
    "benin_data_final = final_data_preparation(benin_data_cleaned_no_outliers)\n",
    "\n",
    "if benin_data_final is not None:\n",
    "    print('Successfully finished step 3: data cleaning')"
   ]
  },
  {
   "cell_type": "markdown",
   "metadata": {},
   "source": [
    "## 4 Explatory Data Analysis"
   ]
  },
  {
   "cell_type": "markdown",
   "metadata": {},
   "source": [
    "4.1 Time Series Analysis"
   ]
  },
  {
   "cell_type": "code",
   "execution_count": 6,
   "metadata": {},
   "outputs": [
    {
     "ename": "ModuleNotFoundError",
     "evalue": "No module named 'seaborn'",
     "output_type": "error",
     "traceback": [
      "\u001b[1;31m---------------------------------------------------------------------------\u001b[0m",
      "\u001b[1;31mModuleNotFoundError\u001b[0m                       Traceback (most recent call last)",
      "Cell \u001b[1;32mIn[6], line 3\u001b[0m\n\u001b[0;32m      1\u001b[0m \u001b[38;5;66;03m# notebooks/benin_analysis.ipynb\u001b[39;00m\n\u001b[1;32m----> 3\u001b[0m \u001b[38;5;28;01mfrom\u001b[39;00m \u001b[38;5;21;01mscripts\u001b[39;00m\u001b[38;5;21;01m.\u001b[39;00m\u001b[38;5;21;01meda\u001b[39;00m \u001b[38;5;28;01mimport\u001b[39;00m plot_time_series\n\u001b[0;32m      5\u001b[0m \u001b[38;5;66;03m# Plot time series for GHI, DNI, DHI, and Tamb\u001b[39;00m\n\u001b[0;32m      6\u001b[0m plot_time_series(benin_data_final, [\u001b[38;5;124m'\u001b[39m\u001b[38;5;124mGHI\u001b[39m\u001b[38;5;124m'\u001b[39m, \u001b[38;5;124m'\u001b[39m\u001b[38;5;124mDNI\u001b[39m\u001b[38;5;124m'\u001b[39m, \u001b[38;5;124m'\u001b[39m\u001b[38;5;124mDHI\u001b[39m\u001b[38;5;124m'\u001b[39m, \u001b[38;5;124m'\u001b[39m\u001b[38;5;124mTamb\u001b[39m\u001b[38;5;124m'\u001b[39m], title_prefix\u001b[38;5;241m=\u001b[39m\u001b[38;5;124m'\u001b[39m\u001b[38;5;124mbenin\u001b[39m\u001b[38;5;124m'\u001b[39m)\n",
      "File \u001b[1;32mc:\\Users\\Matrix\\Documents\\00 TenX\\week 0\\w0-solar-farm-analysis\\Notebooks\\..\\scripts\\eda.py:4\u001b[0m\n\u001b[0;32m      1\u001b[0m \u001b[38;5;66;03m# scripts/eda.py\u001b[39;00m\n\u001b[0;32m      3\u001b[0m \u001b[38;5;28;01mimport\u001b[39;00m \u001b[38;5;21;01mmatplotlib\u001b[39;00m\u001b[38;5;21;01m.\u001b[39;00m\u001b[38;5;21;01mpyplot\u001b[39;00m \u001b[38;5;28;01mas\u001b[39;00m \u001b[38;5;21;01mplt\u001b[39;00m\n\u001b[1;32m----> 4\u001b[0m \u001b[38;5;28;01mimport\u001b[39;00m \u001b[38;5;21;01mseaborn\u001b[39;00m \u001b[38;5;28;01mas\u001b[39;00m \u001b[38;5;21;01msns\u001b[39;00m\n\u001b[0;32m      6\u001b[0m \u001b[38;5;28;01mdef\u001b[39;00m \u001b[38;5;21mplot_time_series\u001b[39m(df, columns, title_prefix):\n\u001b[0;32m      7\u001b[0m \u001b[38;5;250m    \u001b[39m\u001b[38;5;124;03m\"\"\"\u001b[39;00m\n\u001b[0;32m      8\u001b[0m \u001b[38;5;124;03m    Plot time series graphs for specified columns.\u001b[39;00m\n\u001b[0;32m      9\u001b[0m \u001b[38;5;124;03m    \u001b[39;00m\n\u001b[1;32m   (...)\u001b[0m\n\u001b[0;32m     13\u001b[0m \u001b[38;5;124;03m    title_prefix (str): The prefix for the title of the plots.\u001b[39;00m\n\u001b[0;32m     14\u001b[0m \u001b[38;5;124;03m    \"\"\"\u001b[39;00m\n",
      "\u001b[1;31mModuleNotFoundError\u001b[0m: No module named 'seaborn'"
     ]
    }
   ],
   "source": [
    "# notebooks/benin_analysis.ipynb\n",
    "\n",
    "from scripts.eda import plot_time_series\n",
    "\n",
    "# Plot time series for GHI, DNI, DHI, and Tamb\n",
    "plot_time_series(benin_data_final, ['GHI', 'DNI', 'DHI', 'Tamb'], title_prefix='benin')\n"
   ]
  },
  {
   "cell_type": "markdown",
   "metadata": {},
   "source": [
    "4.2 Correlation Analysis"
   ]
  },
  {
   "cell_type": "code",
   "execution_count": null,
   "metadata": {},
   "outputs": [
    {
     "ename": "ModuleNotFoundError",
     "evalue": "No module named 'scripts.eda'",
     "output_type": "error",
     "traceback": [
      "\u001b[1;31m---------------------------------------------------------------------------\u001b[0m",
      "\u001b[1;31mModuleNotFoundError\u001b[0m                       Traceback (most recent call last)",
      "Cell \u001b[1;32mIn[1], line 3\u001b[0m\n\u001b[0;32m      1\u001b[0m \u001b[38;5;66;03m# notebooks/benin_analysis.ipynb\u001b[39;00m\n\u001b[1;32m----> 3\u001b[0m \u001b[38;5;28;01mfrom\u001b[39;00m \u001b[38;5;21;01mscripts\u001b[39;00m\u001b[38;5;21;01m.\u001b[39;00m\u001b[38;5;21;01meda\u001b[39;00m \u001b[38;5;28;01mimport\u001b[39;00m plot_correlation_heatmap\n\u001b[0;32m      5\u001b[0m \u001b[38;5;66;03m# Plot correlation heatmap\u001b[39;00m\n\u001b[0;32m      6\u001b[0m plot_correlation_heatmap(benin_data_final, title\u001b[38;5;241m=\u001b[39m\u001b[38;5;124m'\u001b[39m\u001b[38;5;124mBenin\u001b[39m\u001b[38;5;124m'\u001b[39m)\n",
      "\u001b[1;31mModuleNotFoundError\u001b[0m: No module named 'scripts.eda'"
     ]
    }
   ],
   "source": [
    "# notebooks/benin_analysis.ipynb\n",
    "\n",
    "from scripts.eda import plot_correlation_heatmap\n",
    "\n",
    "# Plot correlation heatmap\n",
    "plot_correlation_heatmap(benin_data_final, title='Benin')"
   ]
  },
  {
   "cell_type": "markdown",
   "metadata": {},
   "source": [
    "4.4 Temperature and Humidity Analysis"
   ]
  },
  {
   "cell_type": "code",
   "execution_count": null,
   "metadata": {},
   "outputs": [
    {
     "ename": "ModuleNotFoundError",
     "evalue": "No module named 'seaborn'",
     "output_type": "error",
     "traceback": [
      "\u001b[1;31m---------------------------------------------------------------------------\u001b[0m",
      "\u001b[1;31mModuleNotFoundError\u001b[0m                       Traceback (most recent call last)",
      "Cell \u001b[1;32mIn[24], line 3\u001b[0m\n\u001b[0;32m      1\u001b[0m \u001b[38;5;66;03m# notebooks/benin_analysis.ipynb\u001b[39;00m\n\u001b[1;32m----> 3\u001b[0m \u001b[38;5;28;01mfrom\u001b[39;00m \u001b[38;5;21;01mscripts\u001b[39;00m\u001b[38;5;21;01m.\u001b[39;00m\u001b[38;5;21;01meda\u001b[39;00m \u001b[38;5;28;01mimport\u001b[39;00m plot_scatter\n\u001b[0;32m      5\u001b[0m \u001b[38;5;66;03m# Plot scatter for temperature and relative humidity\u001b[39;00m\n\u001b[0;32m      6\u001b[0m plot_scatter(benin_data_final, x_col\u001b[38;5;241m=\u001b[39m\u001b[38;5;124m'\u001b[39m\u001b[38;5;124mTamb\u001b[39m\u001b[38;5;124m'\u001b[39m, y_col\u001b[38;5;241m=\u001b[39m\u001b[38;5;124m'\u001b[39m\u001b[38;5;124mRH\u001b[39m\u001b[38;5;124m'\u001b[39m, title\u001b[38;5;241m=\u001b[39m\u001b[38;5;124m'\u001b[39m\u001b[38;5;124mbenin\u001b[39m\u001b[38;5;124m'\u001b[39m)\n",
      "File \u001b[1;32mc:\\Users\\Matrix\\Documents\\00 TenX\\week 0\\w0-solar-farm-analysis\\Notebooks\\..\\scripts\\eda.py:4\u001b[0m\n\u001b[0;32m      1\u001b[0m \u001b[38;5;66;03m# scripts/eda.py\u001b[39;00m\n\u001b[0;32m      3\u001b[0m \u001b[38;5;28;01mimport\u001b[39;00m \u001b[38;5;21;01mmatplotlib\u001b[39;00m\u001b[38;5;21;01m.\u001b[39;00m\u001b[38;5;21;01mpyplot\u001b[39;00m \u001b[38;5;28;01mas\u001b[39;00m \u001b[38;5;21;01mplt\u001b[39;00m\n\u001b[1;32m----> 4\u001b[0m \u001b[38;5;28;01mimport\u001b[39;00m \u001b[38;5;21;01mseaborn\u001b[39;00m \u001b[38;5;28;01mas\u001b[39;00m \u001b[38;5;21;01msns\u001b[39;00m\n\u001b[0;32m      6\u001b[0m \u001b[38;5;28;01mdef\u001b[39;00m \u001b[38;5;21mplot_time_series\u001b[39m(df, columns, title_prefix):\n\u001b[0;32m      7\u001b[0m \u001b[38;5;250m    \u001b[39m\u001b[38;5;124;03m\"\"\"\u001b[39;00m\n\u001b[0;32m      8\u001b[0m \u001b[38;5;124;03m    Plot time series graphs for specified columns.\u001b[39;00m\n\u001b[0;32m      9\u001b[0m \u001b[38;5;124;03m    \u001b[39;00m\n\u001b[1;32m   (...)\u001b[0m\n\u001b[0;32m     13\u001b[0m \u001b[38;5;124;03m    title_prefix (str): The prefix for the title of the plots.\u001b[39;00m\n\u001b[0;32m     14\u001b[0m \u001b[38;5;124;03m    \"\"\"\u001b[39;00m\n",
      "\u001b[1;31mModuleNotFoundError\u001b[0m: No module named 'seaborn'"
     ]
    }
   ],
   "source": [
    "# notebooks/benin_analysis.ipynb\n",
    "\n",
    "from scripts.eda import plot_scatter\n",
    "\n",
    "# Plot scatter for temperature and relative humidity\n",
    "plot_scatter(benin_data_final, x_col='Tamb', y_col='RH', title='benin')\n"
   ]
  },
  {
   "cell_type": "markdown",
   "metadata": {},
   "source": [
    "3.4 Temperature and Humidity Analysis"
   ]
  },
  {
   "cell_type": "code",
   "execution_count": 7,
   "metadata": {},
   "outputs": [
    {
     "ename": "ModuleNotFoundError",
     "evalue": "No module named 'seaborn'",
     "output_type": "error",
     "traceback": [
      "\u001b[1;31m---------------------------------------------------------------------------\u001b[0m",
      "\u001b[1;31mModuleNotFoundError\u001b[0m                       Traceback (most recent call last)",
      "Cell \u001b[1;32mIn[7], line 3\u001b[0m\n\u001b[0;32m      1\u001b[0m \u001b[38;5;66;03m# notebooks/benin_analysis.ipynb\u001b[39;00m\n\u001b[1;32m----> 3\u001b[0m \u001b[38;5;28;01mfrom\u001b[39;00m \u001b[38;5;21;01mscripts\u001b[39;00m\u001b[38;5;21;01m.\u001b[39;00m\u001b[38;5;21;01meda\u001b[39;00m \u001b[38;5;28;01mimport\u001b[39;00m plot_scatter\n\u001b[0;32m      5\u001b[0m \u001b[38;5;66;03m# Plot scatter for temperature and relative humidity\u001b[39;00m\n\u001b[0;32m      6\u001b[0m plot_scatter(benin_data_final, x_col\u001b[38;5;241m=\u001b[39m\u001b[38;5;124m'\u001b[39m\u001b[38;5;124mTamb\u001b[39m\u001b[38;5;124m'\u001b[39m, y_col\u001b[38;5;241m=\u001b[39m\u001b[38;5;124m'\u001b[39m\u001b[38;5;124mRH\u001b[39m\u001b[38;5;124m'\u001b[39m, title\u001b[38;5;241m=\u001b[39m\u001b[38;5;124m'\u001b[39m\u001b[38;5;124mbenin\u001b[39m\u001b[38;5;124m'\u001b[39m)\n",
      "File \u001b[1;32mc:\\Users\\Matrix\\Documents\\00 TenX\\week 0\\w0-solar-farm-analysis\\Notebooks\\..\\scripts\\eda.py:4\u001b[0m\n\u001b[0;32m      1\u001b[0m \u001b[38;5;66;03m# scripts/eda.py\u001b[39;00m\n\u001b[0;32m      3\u001b[0m \u001b[38;5;28;01mimport\u001b[39;00m \u001b[38;5;21;01mmatplotlib\u001b[39;00m\u001b[38;5;21;01m.\u001b[39;00m\u001b[38;5;21;01mpyplot\u001b[39;00m \u001b[38;5;28;01mas\u001b[39;00m \u001b[38;5;21;01mplt\u001b[39;00m\n\u001b[1;32m----> 4\u001b[0m \u001b[38;5;28;01mimport\u001b[39;00m \u001b[38;5;21;01mseaborn\u001b[39;00m \u001b[38;5;28;01mas\u001b[39;00m \u001b[38;5;21;01msns\u001b[39;00m\n\u001b[0;32m      6\u001b[0m \u001b[38;5;28;01mdef\u001b[39;00m \u001b[38;5;21mplot_time_series\u001b[39m(df, columns, title_prefix):\n\u001b[0;32m      7\u001b[0m \u001b[38;5;250m    \u001b[39m\u001b[38;5;124;03m\"\"\"\u001b[39;00m\n\u001b[0;32m      8\u001b[0m \u001b[38;5;124;03m    Plot time series graphs for specified columns.\u001b[39;00m\n\u001b[0;32m      9\u001b[0m \u001b[38;5;124;03m    \u001b[39;00m\n\u001b[1;32m   (...)\u001b[0m\n\u001b[0;32m     13\u001b[0m \u001b[38;5;124;03m    title_prefix (str): The prefix for the title of the plots.\u001b[39;00m\n\u001b[0;32m     14\u001b[0m \u001b[38;5;124;03m    \"\"\"\u001b[39;00m\n",
      "\u001b[1;31mModuleNotFoundError\u001b[0m: No module named 'seaborn'"
     ]
    }
   ],
   "source": [
    "# notebooks/benin_analysis.ipynb\n",
    "\n",
    "from scripts.eda import plot_scatter\n",
    "\n",
    "# Plot scatter for temperature and relative humidity\n",
    "plot_scatter(benin_data_final, x_col='Tamb', y_col='RH', title='benin')\n"
   ]
  },
  {
   "cell_type": "markdown",
   "metadata": {},
   "source": [
    "4.6 Bubble Chart"
   ]
  },
  {
   "cell_type": "code",
   "execution_count": null,
   "metadata": {},
   "outputs": [],
   "source": [
    "# notebooks/benin_analysis.ipynb\n",
    "\n",
    "from scripts.eda import plot_bubble_chart\n",
    "\n",
    "# Plot bubble chart for GHI vs Tamb vs WS\n",
    "plot_bubble_chart(benin_data_final, x_col='GHI', y_col='Tamb', size_col='RH', title='benin')\n"
   ]
  }
 ],
 "metadata": {
  "kernelspec": {
   "display_name": "Python 3",
   "language": "python",
   "name": "python3"
  },
  "language_info": {
   "codemirror_mode": {
    "name": "ipython",
    "version": 3
   },
   "file_extension": ".py",
   "mimetype": "text/x-python",
   "name": "python",
   "nbconvert_exporter": "python",
   "pygments_lexer": "ipython3",
   "version": "3.12.4"
  }
 },
 "nbformat": 4,
 "nbformat_minor": 2
}
